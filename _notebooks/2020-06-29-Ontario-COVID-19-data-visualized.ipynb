{
 "cells": [
  {
   "cell_type": "markdown",
   "metadata": {
    "tags": [
     "papermill-error-cell-tag"
    ]
   },
   "source": [
    "<span style=\"color:red; font-family:Helvetica Neue, Helvetica, Arial, sans-serif; font-size:2em;\">An Exception was encountered at '<a href=\"#papermill-error-cell\">In [3]</a>'.</span>"
   ]
  },
  {
   "cell_type": "markdown",
   "metadata": {
    "papermill": {
     "duration": 0.024945,
     "end_time": "2020-12-18T16:47:02.901658",
     "exception": false,
     "start_time": "2020-12-18T16:47:02.876713",
     "status": "completed"
    },
    "tags": []
   },
   "source": [
    "# Ontario COVID-19 data\n",
    "> \"Ontario COVID-19 data\"\n",
    "\n",
    "- toc: true\n",
    "- branch: master\n",
    "- badges: false\n",
    "- comments: true\n",
    "- author: Jonathan\n",
    "- categories: [canada, ontario, covid-19]"
   ]
  },
  {
   "cell_type": "markdown",
   "metadata": {
    "papermill": {
     "duration": 0.019946,
     "end_time": "2020-12-18T16:47:02.942021",
     "exception": false,
     "start_time": "2020-12-18T16:47:02.922075",
     "status": "completed"
    },
    "tags": []
   },
   "source": [
    "By Jonathan <https://twitter.com/jmcrookston> and Michal <https://twitter.com/niemkiewiczIP>"
   ]
  },
  {
   "cell_type": "code",
   "execution_count": 1,
   "metadata": {
    "execution": {
     "iopub.execute_input": "2020-12-18T16:47:03.001146Z",
     "iopub.status.busy": "2020-12-18T16:47:03.000480Z",
     "iopub.status.idle": "2020-12-18T16:47:17.405219Z",
     "shell.execute_reply": "2020-12-18T16:47:17.405742Z"
    },
    "papermill": {
     "duration": 14.439848,
     "end_time": "2020-12-18T16:47:17.405930",
     "exception": false,
     "start_time": "2020-12-18T16:47:02.966082",
     "status": "completed"
    },
    "tags": []
   },
   "outputs": [
    {
     "name": "stderr",
     "output_type": "stream",
     "text": [
      "/opt/hostedtoolcache/Python/3.6.12/x64/lib/python3.6/site-packages/IPython/core/interactiveshell.py:3072: DtypeWarning: Columns (9) have mixed types.Specify dtype option on import or set low_memory=False.\n",
      "  interactivity=interactivity, compiler=compiler, result=result)\n"
     ]
    },
    {
     "name": "stdout",
     "output_type": "stream",
     "text": [
      "GOT FILE\n"
     ]
    },
    {
     "name": "stdout",
     "output_type": "stream",
     "text": [
      "SAVED FILE\n"
     ]
    }
   ],
   "source": [
    "# hide\n",
    "\n",
    "#- permalink: /ONTARIOPLOTS/\n",
    "\n",
    "import pandas as pd\n",
    "import altair as alt\n",
    "from altair.expr import datum\n",
    "from altair_saver import save\n",
    "from IPython.display import display\n",
    "\n",
    "#import urllib, json, os, time\n",
    "# from IPython.display import HTML\n",
    "from datetime import date, datetime\n",
    "#, timedelta, timezone\n",
    "# import plotly.graph_objects as go\n",
    "# import plotly.express as px\n",
    "# import dateutil.parser\n",
    "\n",
    "#alt.renderers.enable('html')\n",
    "\n",
    "#bust the freaking limit\n",
    "alt.data_transformers.enable('default', max_rows=80000)\n",
    "\n",
    "#alt.data_transformers.enable('json')\n",
    "#, urlpath='files')\n",
    "\n",
    "url = 'https://data.ontario.ca/dataset/f4112442-bdc8-45d2-be3c-12efae72fb27/resource/455fd63b-603d-4608-8216-7d8647f43350/download/conposcovidloc.csv'\n",
    "dforig = pd.read_csv(url)\n",
    "last_retrieved_time = datetime.now() # use for display\n",
    "last_retrieved_date = date.today() # use for filename\n",
    "print(\"GOT FILE\")\n",
    "\n",
    "# hide\n",
    "savedfilename_template = '{} ontario-cases.csv'\n",
    "savedfilename = savedfilename_template.format(last_retrieved_date)\n",
    "dforig.to_csv(savedfilename, index=False)\n",
    "print(\"SAVED FILE\")"
   ]
  },
  {
   "cell_type": "markdown",
   "metadata": {
    "papermill": {
     "duration": 0.080952,
     "end_time": "2020-12-18T16:47:17.509124",
     "exception": false,
     "start_time": "2020-12-18T16:47:17.428172",
     "status": "completed"
    },
    "tags": []
   },
   "source": [
    "# Data currency"
   ]
  },
  {
   "cell_type": "markdown",
   "metadata": {
    "papermill": {
     "duration": 0.020972,
     "end_time": "2020-12-18T16:47:17.552795",
     "exception": false,
     "start_time": "2020-12-18T16:47:17.531823",
     "status": "completed"
    },
    "tags": []
   },
   "source": [
    "Case positive data from [here](https://data.ontario.ca/dataset/confirmed-positive-cases-of-covid-19-in-ontario). Testing and status of case data from [here](https://data.ontario.ca/dataset/status-of-covid-19-cases-in-ontario). \n",
    "\n",
    "- accurate_episode_date = The field uses a number of dates entered in the Integrated Public Health Information System (iPHIS) to provide an approximation of onset date.\n",
    "- case_reported_date = The date that the case was reported to the local public health unit (PHU).\n",
    "- test_reported_date = The test reported date as indicated on the laboratory slip.\n",
    "- specimen_date = Set to the earliest specimen date on record for the case, as indicated on the laboratory slip."
   ]
  },
  {
   "cell_type": "code",
   "execution_count": 2,
   "metadata": {
    "execution": {
     "iopub.execute_input": "2020-12-18T16:47:17.601369Z",
     "iopub.status.busy": "2020-12-18T16:47:17.600628Z",
     "iopub.status.idle": "2020-12-18T16:47:17.603045Z",
     "shell.execute_reply": "2020-12-18T16:47:17.603561Z"
    },
    "papermill": {
     "duration": 0.029559,
     "end_time": "2020-12-18T16:47:17.603745",
     "exception": false,
     "start_time": "2020-12-18T16:47:17.574186",
     "status": "completed"
    },
    "tags": []
   },
   "outputs": [
    {
     "name": "stdout",
     "output_type": "stream",
     "text": [
      "Date last retrieved:\n",
      "2020-12-18 16:47:15.606920\n",
      "Number of rows/cols:\n",
      "(151257, 18)\n"
     ]
    }
   ],
   "source": [
    "# hide_input\n",
    "print(\"Date last retrieved:\")\n",
    "print(last_retrieved_time)\n",
    "print(\"Number of rows/cols:\")\n",
    "print(dforig.shape)"
   ]
  },
  {
   "cell_type": "markdown",
   "metadata": {
    "tags": [
     "papermill-error-cell-tag"
    ]
   },
   "source": [
    "<span id=\"papermill-error-cell\" style=\"color:red; font-family:Helvetica Neue, Helvetica, Arial, sans-serif; font-size:2em;\">Execution using papermill encountered an exception here and stopped:</span>"
   ]
  },
  {
   "cell_type": "code",
   "execution_count": 3,
   "metadata": {
    "execution": {
     "iopub.execute_input": "2020-12-18T16:47:17.656318Z",
     "iopub.status.busy": "2020-12-18T16:47:17.655296Z",
     "iopub.status.idle": "2020-12-18T16:47:17.764500Z",
     "shell.execute_reply": "2020-12-18T16:47:17.763857Z"
    },
    "papermill": {
     "duration": 0.139139,
     "end_time": "2020-12-18T16:47:17.764691",
     "exception": true,
     "start_time": "2020-12-18T16:47:17.625552",
     "status": "failed"
    },
    "tags": []
   },
   "outputs": [
    {
     "ename": "NameError",
     "evalue": "name 'df' is not defined",
     "output_type": "error",
     "traceback": [
      "\u001b[0;31m---------------------------------------------------------------------------\u001b[0m",
      "\u001b[0;31mNameError\u001b[0m                                 Traceback (most recent call last)",
      "\u001b[0;32m<ipython-input-3-540e01b33998>\u001b[0m in \u001b[0;36m<module>\u001b[0;34m\u001b[0m\n\u001b[1;32m      1\u001b[0m \u001b[0;31m#hide\u001b[0m\u001b[0;34m\u001b[0m\u001b[0;34m\u001b[0m\u001b[0;34m\u001b[0m\u001b[0m\n\u001b[1;32m      2\u001b[0m \u001b[0;34m\u001b[0m\u001b[0m\n\u001b[0;32m----> 3\u001b[0;31m \u001b[0mdf\u001b[0m\u001b[0;34m.\u001b[0m\u001b[0mReporting_PHU_City\u001b[0m\u001b[0;34m.\u001b[0m\u001b[0munique\u001b[0m\u001b[0;34m(\u001b[0m\u001b[0;34m)\u001b[0m\u001b[0;34m\u001b[0m\u001b[0;34m\u001b[0m\u001b[0m\n\u001b[0m",
      "\u001b[0;31mNameError\u001b[0m: name 'df' is not defined"
     ]
    }
   ],
   "source": [
    "#hide\n",
    "\n",
    "df.Reporting_PHU_City.unique()"
   ]
  },
  {
   "cell_type": "code",
   "execution_count": null,
   "metadata": {
    "papermill": {
     "duration": null,
     "end_time": null,
     "exception": null,
     "start_time": null,
     "status": "pending"
    },
    "tags": []
   },
   "outputs": [],
   "source": [
    "# hide\n",
    "# strip out useless fields\n",
    "\n",
    "df = dforig.drop(\"Row_ID\", axis=1)\n",
    "df = df.drop(\"Reporting_PHU_Address\", axis=1)\n",
    "df = df.drop(\"Reporting_PHU\", axis=1)\n",
    "df = df.drop(\"Reporting_PHU_Postal_Code\", axis=1)\n",
    "df = df.drop(\"Reporting_PHU_Website\", axis=1)\n",
    "df = df.drop(\"Reporting_PHU_Latitude\", axis=1)\n",
    "df = df.drop(\"Reporting_PHU_Longitude\", axis=1)\n",
    "df\n",
    "#df = df.rename(columns={'Accurate_Episode_Date': \"AccEpiDate\", \"Case_AcquisitionInfo\": \"CaseAc\"})"
   ]
  },
  {
   "cell_type": "markdown",
   "metadata": {
    "papermill": {
     "duration": null,
     "end_time": null,
     "exception": null,
     "start_time": null,
     "status": "pending"
    },
    "tags": []
   },
   "source": [
    "# How quickly are tests coming back?"
   ]
  },
  {
   "cell_type": "code",
   "execution_count": null,
   "metadata": {
    "papermill": {
     "duration": null,
     "end_time": null,
     "exception": null,
     "start_time": null,
     "status": "pending"
    },
    "tags": []
   },
   "outputs": [],
   "source": [
    "# hide_input\n",
    "\n",
    "dfw = df\n",
    "dfw = dfw.drop('Accurate_Episode_Date', axis=1)\n",
    "dfw = dfw.drop('Age_Group', axis=1)\n",
    "dfw = dfw.drop('Client_Gender', axis=1)\n",
    "dfw = dfw.drop('Case_AcquisitionInfo', axis=1)\n",
    "dfw = dfw.drop('Outbreak_Related', axis=1)\n",
    "dfw = dfw.drop('Outcome1', axis=1)\n",
    "#dfw = dfw.drop('Reporting_PHU_City', axis=1)\n",
    "dfw = dfw.drop(\"Case_Reported_Date\", axis=1)\n",
    "#dfw = dfw.drop(\"Test_Reported_Date\", axis=1)\n",
    "#dfw = dfw.drop(\"Specimen_Date\", axis=1)\n",
    "#dfw\n",
    "\n",
    "stufftodrop = dfw[\n",
    "    (dfw['Reporting_PHU_City'] != 'Toronto') &\n",
    "    (dfw['Reporting_PHU_City'] != 'Newmarket') &\n",
    "    (dfw['Reporting_PHU_City'] != 'Mississauga') &\n",
    "    (dfw['Reporting_PHU_City'] != 'Ottawa') &\n",
    "    \n",
    "    (dfw['Reporting_PHU_City'] != 'Hamilton') &\n",
    "    (dfw['Reporting_PHU_City'] != 'London') &\n",
    "    (dfw['Reporting_PHU_City'] != 'Oakville') &\n",
    "    (dfw['Reporting_PHU_City'] != 'Windsor')\n",
    "].index\n",
    "dfw = dfw.drop(stufftodrop)\n",
    "#dfw\n",
    "\n",
    "specimenxtest = alt.Chart(dfw).mark_point(\n",
    "    filled=True,\n",
    "    size=60,\n",
    "    opacity=0.3,\n",
    ").encode(\n",
    "    x=alt.X('Test_Reported_Date:T'),\n",
    "    y=alt.Y('Specimen_Date:T'),  \n",
    "    #alt.OpacityValue(0.4),\n",
    "    #alt.Opacity('count():Q',),\n",
    "        #scale = alt.Scale(\n",
    "        #    #range = ['0', '50'],\n",
    "        #),\n",
    "    #),\n",
    "    color=alt.Color('count():Q',\n",
    "        scale = alt.Scale(\n",
    "            domain = ['0', '50', '75', '100'],\n",
    "            range = ['green', 'yellow', 'orange', 'red'],\n",
    "            type = 'linear',\n",
    "        ),\n",
    "    ),\n",
    "    #alt.Size('count()', type='ordinal'),\n",
    "    #alt.Size('count()', \n",
    "        #scale=alt.Scale(range=[0,200])\n",
    "    #),\n",
    "    \n",
    "    #alt.Shape('Reporting_PHU_City'), \n",
    "    \n",
    "    row=alt.Row('Reporting_PHU_City:N'),\n",
    "    \n",
    "    tooltip = ['Specimen_Date:T', 'Test_Reported_Date:T', 'count()'],  \n",
    ").properties(\n",
    "    height = 500,\n",
    "    width = 500,\n",
    ").transform_filter(\n",
    "    alt.FieldOneOfPredicate(field='Reporting_PHU_City', oneOf=['Toronto', 'Mississauga', 'Newmarket', 'Ottawa', 'Hamilton', 'London', 'Oakville', 'Windsor'])\n",
    ").interactive()\n",
    "\n",
    "specimenxtest\n"
   ]
  },
  {
   "cell_type": "code",
   "execution_count": null,
   "metadata": {
    "papermill": {
     "duration": null,
     "end_time": null,
     "exception": null,
     "start_time": null,
     "status": "pending"
    },
    "tags": []
   },
   "outputs": [],
   "source": [
    "# hide_input\n",
    "\n",
    "dfw = df\n",
    "dfw = dfw.drop('Accurate_Episode_Date', axis=1)\n",
    "dfw = dfw.drop('Age_Group', axis=1)\n",
    "dfw = dfw.drop('Client_Gender', axis=1)\n",
    "dfw = dfw.drop('Case_AcquisitionInfo', axis=1)\n",
    "dfw = dfw.drop('Outbreak_Related', axis=1)\n",
    "dfw = dfw.drop('Outcome1', axis=1)\n",
    "#dfw = dfw.drop('Reporting_PHU_City', axis=1)\n",
    "dfw = dfw.drop(\"Case_Reported_Date\", axis=1)\n",
    "#dfw = dfw.drop(\"Test_Reported_Date\", axis=1)\n",
    "#dfw = dfw.drop(\"Specimen_Date\", axis=1)\n",
    "#dfw\n",
    "\n",
    "stufftodrop = dfw[\n",
    "    (dfw['Reporting_PHU_City'] != 'Toronto') &\n",
    "    (dfw['Reporting_PHU_City'] != 'Newmarket') &\n",
    "    (dfw['Reporting_PHU_City'] != 'Mississauga') &\n",
    "    (dfw['Reporting_PHU_City'] != 'Ottawa') &\n",
    "    \n",
    "    (dfw['Reporting_PHU_City'] != 'Hamilton') &\n",
    "    (dfw['Reporting_PHU_City'] != 'London') &\n",
    "    (dfw['Reporting_PHU_City'] != 'Oakville') &\n",
    "    (dfw['Reporting_PHU_City'] != 'Windsor')\n",
    "].index\n",
    "dfw = dfw.drop(stufftodrop)\n",
    "#dfw\n",
    "\n",
    "specimenxtest = alt.Chart(dfw).mark_point(\n",
    "    filled=True,\n",
    "    size=60,\n",
    "    opacity=0.3,\n",
    ").encode(\n",
    "    x=alt.X('Test_Reported_Date:T'),\n",
    "    y=alt.Y('Specimen_Date:T'),  \n",
    "    color=alt.Color('count():Q',\n",
    "        scale = alt.Scale(\n",
    "            domain = ['0', '50', '75', '100'],\n",
    "            range = ['green', 'yellow', 'orange', 'red'],\n",
    "            type = 'linear',\n",
    "        ),\n",
    "    ),\n",
    "    row=alt.Row('Reporting_PHU_City:N'),\n",
    "    tooltip = ['Specimen_Date:T', 'Test_Reported_Date:T', 'count()'],\n",
    ").properties(\n",
    "    height = 500,\n",
    "    width = 500,\n",
    ").transform_filter(\n",
    "    alt.FieldOneOfPredicate(field='Reporting_PHU_City', oneOf=['Toronto', 'Mississauga', 'Newmarket', 'Ottawa', 'Hamilton', 'London', 'Oakville', 'Windsor'])\n",
    ").interactive()\n",
    "\n",
    "#specimenxtest\n"
   ]
  },
  {
   "cell_type": "markdown",
   "metadata": {
    "papermill": {
     "duration": null,
     "end_time": null,
     "exception": null,
     "start_time": null,
     "status": "pending"
    },
    "tags": []
   },
   "source": [
    "# COVID-19 cases, by age and by various variables"
   ]
  },
  {
   "cell_type": "code",
   "execution_count": null,
   "metadata": {
    "papermill": {
     "duration": null,
     "end_time": null,
     "exception": null,
     "start_time": null,
     "status": "pending"
    },
    "tags": []
   },
   "outputs": [],
   "source": [
    "# hide_input\n",
    "\n",
    "dfw = df\n",
    "dfw = dfw.drop('Accurate_Episode_Date', axis=1)\n",
    "#dfw = dfw.drop('Age_Group', axis=1)\n",
    "#dfw = dfw.drop('Client_Gender', axis=1)\n",
    "#dfw = dfw.drop('Case_AcquisitionInfo', axis=1)\n",
    "#dfw = dfw.drop('Outbreak_Related', axis=1)\n",
    "#dfw = dfw.drop('Outcome1', axis=1)\n",
    "#dfw = dfw.drop('Reporting_PHU_City', axis=1)\n",
    "\n",
    "dfw = dfw.drop('Case_Reported_Date', axis=1)\n",
    "dfw = dfw.drop('Test_Reported_Date', axis=1)\n",
    "dfw = dfw.drop('Specimen_Date', axis=1)\n",
    "#dfw\n",
    "\n",
    "agesort = ['<20', '20s', '30s', '40s', '50s', '60s', '70s', '80s', '90s', 'Unknown']\n",
    "\n",
    "age_gend_bar = alt.Chart(dfw).mark_bar().encode(\n",
    "    x=alt.X('Age_Group:N', \n",
    "#          sort=agesort,\n",
    "    ),\n",
    "    y=alt.Y('count()'),\n",
    "    color=alt.Color('Client_Gender:N'),\n",
    "    #tooltip=['Age_Group:N', 'count():Q', 'Client_Gender:N'],\n",
    ").interactive()\n",
    "\n",
    "age_gend_line = age_gend_bar.mark_line()\n",
    "\n",
    "hc1 = alt.hconcat(\n",
    "    age_gend_bar, age_gend_line\n",
    ").resolve_scale(\n",
    "    #y='shared',\n",
    ")\n",
    "\n",
    "# ---\n",
    "\n",
    "age_aq1 = age_gend_bar.encode(\n",
    "    alt.Color('Case_AcquisitionInfo'),\n",
    "    tooltip=['Age_Group', 'count()', 'Case_AcquisitionInfo'],\n",
    ")\n",
    "\n",
    "age_aq3 = age_aq1.mark_line()\n",
    "\n",
    "hc2 = alt.hconcat(\n",
    "    age_aq1, age_aq3\n",
    ").resolve_scale(\n",
    "    y='shared',\n",
    ")\n",
    "\n",
    "# ---\n",
    "\n",
    "age_outb1 = age_gend_bar.encode(\n",
    "    alt.Color('Outbreak_Related'),\n",
    "    tooltip=['Age_Group', 'count()', 'Outbreak_Related'],\n",
    ")\n",
    "\n",
    "age_outb3 = age_outb1.mark_line()\n",
    "\n",
    "hc3 = alt.hconcat(\n",
    "    age_outb1, age_outb3\n",
    ").resolve_scale(\n",
    "    y='shared',\n",
    ")\n",
    "\n",
    "# ---\n",
    "\n",
    "age_outc1 = age_gend_bar.encode(\n",
    "    alt.Color('Outcome1'),\n",
    "    tooltip=['Age_Group', 'count()', 'Outcome1'],\n",
    ")\n",
    "\n",
    "age_outc3 = age_outc1.mark_line()\n",
    "\n",
    "hc4 = alt.hconcat(\n",
    "    age_outc1, age_outc3\n",
    ").resolve_scale(\n",
    "    #y='shared',\n",
    ")\n",
    "\n",
    "# ---\n",
    "\n",
    "age_phu1 = age_gend_bar.encode(\n",
    "    alt.Color('Reporting_PHU_City:N'),\n",
    "    tooltip=['Age_Group:N', 'count():Q', 'Reporting_PHU_City:N'],\n",
    ").transform_filter(\n",
    "    alt.FieldOneOfPredicate(field='Reporting_PHU_City', oneOf=['Toronto', 'Newmarket', 'Mississauga', 'Ottawa', 'Windsor']),\n",
    ")\n",
    "\n",
    "age_phu3 = age_phu1.mark_line()\n",
    "\n",
    "hc5 = alt.hconcat(\n",
    "    age_phu1, age_phu3\n",
    ").resolve_scale(\n",
    "    y='shared',\n",
    ")\n",
    "\n",
    "phu_age1 = alt.Chart(dfw).mark_bar().encode(\n",
    "    alt.X('Reporting_PHU_City'),\n",
    "    alt.Y('count()'),\n",
    "    alt.Color('Age_Group'),\n",
    "    tooltip=['Age_Group', 'count()', 'Reporting_PHU_City'],\n",
    ").transform_filter(\n",
    "    alt.FieldOneOfPredicate(field='Reporting_PHU_City', oneOf=['Toronto', 'Newmarket', 'Mississauga', 'Ottawa', 'London', 'Waterloo', 'Windsor', 'Guelph']),\n",
    ")\n",
    "\n",
    "phu_age3 = phu_age1.mark_line()\n",
    "\n",
    "hcextra = alt.hconcat(\n",
    "    phu_age1, phu_age3\n",
    ").resolve_scale(\n",
    "    #y='shared',\n",
    ")\n",
    "\n",
    "c1 = alt.vconcat(\n",
    "  hc1, hc2, hc3, hc4, hc5, hcextra\n",
    ").resolve_scale(\n",
    "    color='independent',\n",
    "    #y='shared',\n",
    ")\n",
    "\n",
    "c1\n"
   ]
  },
  {
   "cell_type": "code",
   "execution_count": null,
   "metadata": {
    "papermill": {
     "duration": null,
     "end_time": null,
     "exception": null,
     "start_time": null,
     "status": "pending"
    },
    "tags": []
   },
   "outputs": [],
   "source": [
    "#hide_input\n",
    "\n",
    "dfw = df\n",
    "#dfw = dfw.drop('Accurate_Episode_Date', axis=1)\n",
    "#dfw = dfw.drop('Age_Group', axis=1)\n",
    "#dfw = dfw.drop('Client_Gender', axis=1)\n",
    "dfw = dfw.drop('Case_AcquisitionInfo', axis=1)\n",
    "dfw = dfw.drop('Outbreak_Related', axis=1)\n",
    "dfw = dfw.drop('Outcome1', axis=1)\n",
    "dfw = dfw.drop('Reporting_PHU_City', axis=1)\n",
    "\n",
    "dfw = dfw.drop('Case_Reported_Date', axis=1)\n",
    "dfw = dfw.drop('Test_Reported_Date', axis=1)\n",
    "dfw = dfw.drop('Specimen_Date', axis=1)\n",
    "dfw\n",
    "\n",
    "bar = alt.Chart(dfw).mark_bar(\n",
    "    opacity=0.5,\n",
    ").encode(\n",
    "    alt.X('Accurate_Episode_Date:T'),\n",
    "    alt.Y('count():Q'),\n",
    "    tooltip=['Accurate_Episode_Date:T', 'count()'],\n",
    ")\n",
    "\n",
    "line = alt.Chart(dfw).mark_line(\n",
    "    color='red',\n",
    ").transform_aggregate(\n",
    "    count='count()',\n",
    "    groupby=['Accurate_Episode_Date'],\n",
    ").transform_window(\n",
    "    rolling_mean='mean(count)',\n",
    "    frame=[-4, 4]\n",
    ").encode(\n",
    "    alt.X('Accurate_Episode_Date:T', axis=alt.Axis(title='Date')),\n",
    "    alt.Y('rolling_mean:Q'),\n",
    "    tooltip=['Accurate_Episode_Date:T', 'rolling_mean:Q'],\n",
    ")\n",
    "\n",
    "a = (bar + line).encode(\n",
    " tooltip=['Accurate_Episode_Date:T', 'rolling_mean:Q'],\n",
    ")\n",
    "\n",
    "#a\n",
    "\n",
    "#display(rolling_mean)\n",
    "\n",
    "#alt.FieldRangePredicate(field='Accurate_Episode_Date', range=[2020, 2020]),\n",
    "#.interactive()\n",
    "#.transform_filter(\n",
    "#    alt.FieldOneOfPredicate(field='Reporting_PHU_City', oneOf=['Toronto', 'Newmarket', 'Mississauga', 'Ottawa', 'London', 'Waterloo', 'Windsor', 'Guelph']),\n",
    "\n",
    "#dfw\n"
   ]
  },
  {
   "cell_type": "markdown",
   "metadata": {
    "papermill": {
     "duration": null,
     "end_time": null,
     "exception": null,
     "start_time": null,
     "status": "pending"
    },
    "tags": []
   },
   "source": [
    "# Ontario COVID-19 cases, plotted over time"
   ]
  },
  {
   "cell_type": "markdown",
   "metadata": {
    "papermill": {
     "duration": null,
     "end_time": null,
     "exception": null,
     "start_time": null,
     "status": "pending"
    },
    "tags": []
   },
   "source": [
    "## Summary charts"
   ]
  },
  {
   "cell_type": "code",
   "execution_count": null,
   "metadata": {
    "papermill": {
     "duration": null,
     "end_time": null,
     "exception": null,
     "start_time": null,
     "status": "pending"
    },
    "tags": []
   },
   "outputs": [],
   "source": [
    "# hide_input\n",
    "# MASTER CHART\n",
    "\n",
    "dfw = df\n",
    "#dfw = dfw.drop('Accurate_Episode_Date', axis=1)\n",
    "#dfw = dfw.drop('Age_Group', axis=1)\n",
    "#dfw = dfw.drop('Client_Gender', axis=1)\n",
    "#dfw = dfw.drop('Case_AcquisitionInfo', axis=1)\n",
    "#dfw = dfw.drop('Outbreak_Related', axis=1)\n",
    "#dfw = dfw.drop('Outcome1', axis=1)\n",
    "#dfw = dfw.drop('Reporting_PHU_City', axis=1)\n",
    "\n",
    "dfw = dfw.drop('Case_Reported_Date', axis=1)\n",
    "dfw = dfw.drop('Test_Reported_Date', axis=1)\n",
    "dfw = dfw.drop('Specimen_Date', axis=1)\n",
    "dfw\n",
    "\n",
    "c0 = alt.Chart(dfw).mark_bar(\n",
    "    #interpolate='step-before',\n",
    ").encode(\n",
    "    x=alt.X('Accurate_Episode_Date:T', title='date'),\n",
    "    y=alt.Y('count()', title='cases'),\n",
    "    #alt.Color('Age_Group'),\n",
    "    #alt.Color('Client_Gender'),\n",
    "    #alt.Color('Case_AcquisitionInfo'),\n",
    "    #alt.Color('Outbreak_Related'),\n",
    "    #alt.Color('Outcome1'),\n",
    "    #alt.Color('Reporting_PHU_City'),\n",
    "    tooltip=['Accurate_Episode_Date:T', 'count()'],\n",
    ").properties(\n",
    "    height=150,\n",
    "    width=1000,\n",
    ").interactive()\n",
    "\n",
    "c1 = c0.encode(\n",
    "    color=alt.Color('Age_Group:N'),\n",
    "    tooltip=['Accurate_Episode_Date:T', 'count():Q', 'Age_Group:N'],\n",
    ")\n",
    "\n",
    "c2 = c0.encode(\n",
    "    color=alt.Color('Client_Gender:N'),\n",
    "    tooltip=['Accurate_Episode_Date:T', 'count():Q', 'Client_Gender:N'],\n",
    ")\n",
    "\n",
    "c3 = c0.encode(\n",
    "    color=alt.Color('Case_AcquisitionInfo:N'),\n",
    "    tooltip=['Accurate_Episode_Date:T', 'count():Q', 'Case_AcquisitionInfo:N'],\n",
    ")\n",
    "\n",
    "c4 = c0.encode(\n",
    "    color=alt.Color('Outbreak_Related:N'),\n",
    "    tooltip=['Accurate_Episode_Date:T', 'count():Q', 'Outbreak_Related:N'],\n",
    ")\n",
    "\n",
    "c5 = c0.encode(\n",
    "    color=alt.Color('Outcome1:N'),\n",
    "    tooltip=['Accurate_Episode_Date:T', 'count():Q', 'Outcome1:N'],\n",
    ")\n",
    "\n",
    "c6 = c0.encode(\n",
    "    color=alt.Color('Reporting_PHU_City:N'),\n",
    "    tooltip=['Accurate_Episode_Date:T', 'count():Q', 'Reporting_PHU_City'],\n",
    ").transform_filter(\n",
    "    alt.FieldOneOfPredicate(field='Reporting_PHU_City', oneOf=['Toronto', 'Newmarket', 'Mississauga', 'Ottawa', 'Oakville', 'London', 'Guelph', 'Sudbury', 'Waterloo', 'Windsor'])\n",
    ")\n",
    "\n",
    "alt.vconcat(\n",
    "    #c0, c0a, c1, c1a, c2, c2a, c3, c3a, c4, c4a, c5, c5a, c6, c6a\n",
    "    c0, c1, c2, c3, c4, c5, c6\n",
    ").resolve_scale(\n",
    "    color='independent',\n",
    "    y='shared',\n",
    ")\n"
   ]
  },
  {
   "cell_type": "markdown",
   "metadata": {
    "papermill": {
     "duration": null,
     "end_time": null,
     "exception": null,
     "start_time": null,
     "status": "pending"
    },
    "tags": []
   },
   "source": [
    "## All the information in the charts above, but breaking out each age group"
   ]
  },
  {
   "cell_type": "markdown",
   "metadata": {
    "papermill": {
     "duration": null,
     "end_time": null,
     "exception": null,
     "start_time": null,
     "status": "pending"
    },
    "tags": []
   },
   "source": [
    "### Gender, broken out by age"
   ]
  },
  {
   "cell_type": "code",
   "execution_count": null,
   "metadata": {
    "papermill": {
     "duration": null,
     "end_time": null,
     "exception": null,
     "start_time": null,
     "status": "pending"
    },
    "tags": []
   },
   "outputs": [],
   "source": [
    "# hide_input\n",
    "\n",
    "dfw = df\n",
    "#dfw = dfw.drop('Accurate_Episode_Date', axis=1)\n",
    "#dfw = dfw.drop('Age_Group', axis=1)\n",
    "#dfw = dfw.drop('Client_Gender', axis=1)\n",
    "dfw = dfw.drop('Case_AcquisitionInfo', axis=1)\n",
    "dfw = dfw.drop('Outbreak_Related', axis=1)\n",
    "dfw = dfw.drop('Outcome1', axis=1)\n",
    "dfw = dfw.drop('Reporting_PHU_City', axis=1)\n",
    "\n",
    "dfw = dfw.drop('Case_Reported_Date', axis=1)\n",
    "dfw = dfw.drop('Test_Reported_Date', axis=1)\n",
    "dfw = dfw.drop('Specimen_Date', axis=1)\n",
    "dfw\n",
    "\n",
    "chart_over_time_base = alt.Chart(dfw).mark_bar(\n",
    "    #interpolate='step-after',\n",
    ").encode(\n",
    "    x=alt.X('Accurate_Episode_Date:T', title='date'),\n",
    "    y=alt.Y('count():Q', title='cases'),\n",
    "    color=alt.Color('Client_Gender:N'),\n",
    "    tooltip=['Accurate_Episode_Date:T', 'count()', 'Age_Group'],\n",
    ").properties(\n",
    "    height=120,\n",
    "    width=900,\n",
    ").interactive(\n",
    ").facet(\n",
    "    row='Age_Group:N'\n",
    ")\n",
    "\n",
    "chart_over_time_base"
   ]
  },
  {
   "cell_type": "markdown",
   "metadata": {
    "papermill": {
     "duration": null,
     "end_time": null,
     "exception": null,
     "start_time": null,
     "status": "pending"
    },
    "tags": []
   },
   "source": [
    "### How acquired"
   ]
  },
  {
   "cell_type": "code",
   "execution_count": null,
   "metadata": {
    "papermill": {
     "duration": null,
     "end_time": null,
     "exception": null,
     "start_time": null,
     "status": "pending"
    },
    "tags": []
   },
   "outputs": [],
   "source": [
    "# hide_input\n",
    "\n",
    "dfw = df\n",
    "#dfw = dfw.drop('Accurate_Episode_Date', axis=1)\n",
    "#dfw = dfw.drop('Age_Group', axis=1)\n",
    "dfw = dfw.drop('Client_Gender', axis=1)\n",
    "#dfw = dfw.drop('Case_AcquisitionInfo', axis=1)\n",
    "dfw = dfw.drop('Outbreak_Related', axis=1)\n",
    "dfw = dfw.drop('Outcome1', axis=1)\n",
    "dfw = dfw.drop('Reporting_PHU_City', axis=1)\n",
    "\n",
    "dfw = dfw.drop('Case_Reported_Date', axis=1)\n",
    "dfw = dfw.drop('Test_Reported_Date', axis=1)\n",
    "dfw = dfw.drop('Specimen_Date', axis=1)\n",
    "dfw\n",
    "\n",
    "c1 = alt.Chart(dfw).mark_bar(\n",
    "    #interpolate='step-after',\n",
    ").encode(\n",
    "    alt.X('Accurate_Episode_Date:T', title='date'),\n",
    "    alt.Y('count():Q', title='cases'),\n",
    "    alt.Color('Case_AcquisitionInfo:N'),\n",
    "    tooltip=['Accurate_Episode_Date:T', 'count()', 'Case_AcquisitionInfo:N'],\n",
    ").properties(\n",
    "    height=120,\n",
    "    width=1000,\n",
    ").facet(\n",
    "    row='Age_Group:N'\n",
    ").interactive()\n",
    "\n",
    "c1"
   ]
  },
  {
   "cell_type": "markdown",
   "metadata": {
    "papermill": {
     "duration": null,
     "end_time": null,
     "exception": null,
     "start_time": null,
     "status": "pending"
    },
    "tags": []
   },
   "source": [
    "### Whether cases acquired in an outbreak setting"
   ]
  },
  {
   "cell_type": "code",
   "execution_count": null,
   "metadata": {
    "papermill": {
     "duration": null,
     "end_time": null,
     "exception": null,
     "start_time": null,
     "status": "pending"
    },
    "tags": []
   },
   "outputs": [],
   "source": [
    "# hide_input\n",
    "\n",
    "dfw = df\n",
    "#dfw = dfw.drop('Accurate_Episode_Date', axis=1)\n",
    "#dfw = dfw.drop('Age_Group', axis=1)\n",
    "dfw = dfw.drop('Client_Gender', axis=1)\n",
    "dfw = dfw.drop('Case_AcquisitionInfo', axis=1)\n",
    "#dfw = dfw.drop('Outbreak_Related', axis=1)\n",
    "dfw = dfw.drop('Outcome1', axis=1)\n",
    "dfw = dfw.drop('Reporting_PHU_City', axis=1)\n",
    "\n",
    "dfw = dfw.drop('Case_Reported_Date', axis=1)\n",
    "dfw = dfw.drop('Test_Reported_Date', axis=1)\n",
    "dfw = dfw.drop('Specimen_Date', axis=1)\n",
    "dfw\n",
    "\n",
    "c1 = alt.Chart(dfw).mark_bar(\n",
    "    #interpolate='step-after',\n",
    ").encode(\n",
    "    alt.X('Accurate_Episode_Date:T', title='date'),\n",
    "    alt.Y('count():Q', title='cases'),\n",
    "    alt.Color('Outbreak_Related:N'),\n",
    "    tooltip=['Accurate_Episode_Date:T', 'count()', 'Outbreak_Related:N'],\n",
    ").properties(\n",
    "    height=120,\n",
    "    width=1000,\n",
    ").facet(\n",
    "    row='Age_Group:N'\n",
    ").interactive()\n",
    "\n",
    "c1"
   ]
  },
  {
   "cell_type": "markdown",
   "metadata": {
    "papermill": {
     "duration": null,
     "end_time": null,
     "exception": null,
     "start_time": null,
     "status": "pending"
    },
    "tags": []
   },
   "source": [
    "### Outcome"
   ]
  },
  {
   "cell_type": "code",
   "execution_count": null,
   "metadata": {
    "papermill": {
     "duration": null,
     "end_time": null,
     "exception": null,
     "start_time": null,
     "status": "pending"
    },
    "tags": []
   },
   "outputs": [],
   "source": [
    "# hide_input\n",
    "\n",
    "dfw = df\n",
    "#dfw = dfw.drop('Accurate_Episode_Date', axis=1)\n",
    "#dfw = dfw.drop('Age_Group', axis=1)\n",
    "dfw = dfw.drop('Client_Gender', axis=1)\n",
    "dfw = dfw.drop('Case_AcquisitionInfo', axis=1)\n",
    "dfw = dfw.drop('Outbreak_Related', axis=1)\n",
    "#dfw = dfw.drop('Outcome1', axis=1)\n",
    "dfw = dfw.drop('Reporting_PHU_City', axis=1)\n",
    "\n",
    "dfw = dfw.drop('Case_Reported_Date', axis=1)\n",
    "dfw = dfw.drop('Test_Reported_Date', axis=1)\n",
    "dfw = dfw.drop('Specimen_Date', axis=1)\n",
    "dfw\n",
    "\n",
    "c1 = alt.Chart(dfw).mark_bar(\n",
    "    #interpolate='step-after',\n",
    ").encode(\n",
    "    x=alt.X('Accurate_Episode_Date:T', title='date'),\n",
    "    y=alt.Y('count():Q', title='cases'),\n",
    "    color=alt.Color('Outcome1:N'),\n",
    "    tooltip=['Accurate_Episode_Date:T', 'count()', 'Outcome1:N'],\n",
    ").properties(\n",
    "    height=120,\n",
    "    width=1000,\n",
    ").facet(\n",
    "    row='Age_Group:N'\n",
    ").interactive()\n",
    "\n",
    "c1"
   ]
  },
  {
   "cell_type": "markdown",
   "metadata": {
    "papermill": {
     "duration": null,
     "end_time": null,
     "exception": null,
     "start_time": null,
     "status": "pending"
    },
    "tags": []
   },
   "source": [
    "## Selected cities over time"
   ]
  },
  {
   "cell_type": "markdown",
   "metadata": {
    "papermill": {
     "duration": null,
     "end_time": null,
     "exception": null,
     "start_time": null,
     "status": "pending"
    },
    "tags": []
   },
   "source": [
    "In the summary section there is a chart of cases over time with the various cities shown on one stacked box plot. That can be hard to read, so I broke them out here."
   ]
  },
  {
   "cell_type": "code",
   "execution_count": null,
   "metadata": {
    "papermill": {
     "duration": null,
     "end_time": null,
     "exception": null,
     "start_time": null,
     "status": "pending"
    },
    "tags": []
   },
   "outputs": [],
   "source": [
    "# hide_input\n",
    "\n",
    "dfw = df\n",
    "#dfw = dfw.drop('Accurate_Episode_Date', axis=1)\n",
    "#dfw = dfw.drop('Age_Group', axis=1)\n",
    "dfw = dfw.drop('Client_Gender', axis=1)\n",
    "dfw = dfw.drop('Case_AcquisitionInfo', axis=1)\n",
    "dfw = dfw.drop('Outbreak_Related', axis=1)\n",
    "dfw = dfw.drop('Outcome1', axis=1)\n",
    "#dfw = dfw.drop('Reporting_PHU_City', axis=1)\n",
    "\n",
    "dfw = dfw.drop('Case_Reported_Date', axis=1)\n",
    "dfw = dfw.drop('Test_Reported_Date', axis=1)\n",
    "dfw = dfw.drop('Specimen_Date', axis=1)\n",
    "dfw\n",
    "\n",
    "c1 = alt.Chart(dfw).mark_bar(\n",
    "    #interpolate='step-after',\n",
    ").encode(\n",
    "    x=alt.X('Accurate_Episode_Date:T', title='date'),\n",
    "    y=alt.Y('count()', title='cases'),\n",
    "    color=alt.Color('Reporting_PHU_City'),\n",
    "    tooltip=['Accurate_Episode_Date:T', 'count()', 'Reporting_PHU_City'],\n",
    ").properties(\n",
    "    height=120,\n",
    "    width=1000,\n",
    ").transform_filter(\n",
    "    alt.FieldOneOfPredicate(field='Reporting_PHU_City', oneOf=['Toronto', 'Newmarket', 'Mississauga', 'Ottawa', 'Oakville', 'London', 'Guelph', 'Sudbury', 'Waterloo', 'Windsor'])\n",
    ").facet(\n",
    "    row='Reporting_PHU_City'\n",
    ").interactive()\n",
    "\n",
    "c1"
   ]
  },
  {
   "cell_type": "markdown",
   "metadata": {
    "papermill": {
     "duration": null,
     "end_time": null,
     "exception": null,
     "start_time": null,
     "status": "pending"
    },
    "tags": []
   },
   "source": [
    "## Cases over time for selected cities, showing gender and age"
   ]
  },
  {
   "cell_type": "markdown",
   "metadata": {
    "papermill": {
     "duration": null,
     "end_time": null,
     "exception": null,
     "start_time": null,
     "status": "pending"
    },
    "tags": []
   },
   "source": [
    "NOTE: X AND Y AXES ARE NOT THE SAME ACROSS CHARTS.\n",
    "\n",
    "For each city, top chart shows gender and bottom chart shows age."
   ]
  },
  {
   "cell_type": "code",
   "execution_count": null,
   "metadata": {
    "papermill": {
     "duration": null,
     "end_time": null,
     "exception": null,
     "start_time": null,
     "status": "pending"
    },
    "tags": []
   },
   "outputs": [],
   "source": [
    "# hide_input\n",
    "\n",
    "dfw = df\n",
    "#dfw = dfw.drop('Accurate_Episode_Date', axis=1)\n",
    "#dfw = dfw.drop('Age_Group', axis=1)\n",
    "#dfw = dfw.drop('Client_Gender', axis=1)\n",
    "dfw = dfw.drop('Case_AcquisitionInfo', axis=1)\n",
    "dfw = dfw.drop('Outbreak_Related', axis=1)\n",
    "dfw = dfw.drop('Outcome1', axis=1)\n",
    "#dfw = dfw.drop('Reporting_PHU_City', axis=1)\n",
    "\n",
    "dfw = dfw.drop('Case_Reported_Date', axis=1)\n",
    "dfw = dfw.drop('Test_Reported_Date', axis=1)\n",
    "dfw = dfw.drop('Specimen_Date', axis=1)\n",
    "dfw\n",
    "\n",
    "dropnames = dfw[\n",
    "    (dfw['Reporting_PHU_City'] != 'Toronto') &\n",
    "    (dfw['Reporting_PHU_City'] != 'Mississauga') &\n",
    "    (dfw['Reporting_PHU_City'] != 'Newmarket') &\n",
    "    (dfw['Reporting_PHU_City'] != 'Ottawa') &\n",
    "    \n",
    "    (dfw['Reporting_PHU_City'] != 'Hamilton') &\n",
    "    (dfw['Reporting_PHU_City'] != 'London') &\n",
    "    (dfw['Reporting_PHU_City'] != 'Windsor')\n",
    "].index\n",
    "dfw = dfw.drop(dropnames)\n",
    "#dfw\n",
    "    \n",
    "c_all = alt.Chart(dfw).mark_bar(\n",
    "    #interpolate='step-after',\n",
    ").encode(\n",
    "    x=alt.X('Accurate_Episode_Date:T', title='date'),\n",
    "    y=alt.Y('count():Q', title='cases'),\n",
    "    color=alt.Color('Reporting_PHU_City:N'),\n",
    "    tooltip=['Accurate_Episode_Date:T', 'count()', 'Reporting_PHU_City:N'],\n",
    ").transform_filter(\n",
    "    alt.FieldOneOfPredicate(field='Reporting_PHU_City', oneOf=['Toronto', 'Mississauga', 'Newmarket', 'Ottawa', 'Hamilton', 'London', 'Windsor']),\n",
    ").properties(\n",
    "    title='Various Cities',\n",
    "    height=120,\n",
    "    width=1000\n",
    ").interactive()\n",
    "\n",
    "c1 = c_all.encode(\n",
    "    color=alt.Color('Client_Gender:N'),\n",
    "    tooltip=['Accurate_Episode_Date:T', 'count()', 'Client_Gender:N'],\n",
    ").transform_filter(\n",
    "    alt.FieldOneOfPredicate(field='Reporting_PHU_City', oneOf=['Toronto'])\n",
    ").properties(\n",
    "    title='Toronto',\n",
    ").interactive()\n",
    "#.facet(\n",
    "    #row='Age_Group'\n",
    "#    row='Reporting_PHU_City'\n",
    "#).interactive()\n",
    "\n",
    "c1age = c1.encode(\n",
    "    color=alt.Color('Age_Group:N'),\n",
    "    tooltip=['Accurate_Episode_Date:T', 'count()', 'Age_Group:N'],\n",
    ")\n",
    "\n",
    "c2 = c_all.encode(\n",
    "    color=alt.Color('Client_Gender:N'),\n",
    "    tooltip=['Accurate_Episode_Date:T', 'count()', 'Client_Gender:N'],\n",
    ").properties(\n",
    "    title='Mississauga',\n",
    ").transform_filter(\n",
    "    alt.FieldOneOfPredicate(field='Reporting_PHU_City', oneOf=['Mississauga'])\n",
    ").interactive()\n",
    "\n",
    "c2age = c2.encode(\n",
    "    color=alt.Color('Age_Group:N'),\n",
    "    tooltip=['Accurate_Episode_Date:T', 'count()', 'Age_Group:N'],\n",
    ")\n",
    "\n",
    "c3 = c_all.encode(\n",
    "    color=alt.Color('Client_Gender:N'),\n",
    "    tooltip=['Accurate_Episode_Date:T', 'count()', 'Client_Gender:N'],\n",
    ").properties(\n",
    "    title='Newmarket',\n",
    ").transform_filter(\n",
    "    alt.FieldOneOfPredicate(field='Reporting_PHU_City', oneOf=['Newmarket'])\n",
    ").interactive()\n",
    "\n",
    "c3age = c3.encode(\n",
    "    color=alt.Color('Age_Group:N'),\n",
    "    tooltip=['Accurate_Episode_Date:T', 'count()', 'Age_Group:N'],\n",
    ")\n",
    "\n",
    "c4 = c_all.encode(\n",
    "    color=alt.Color('Client_Gender:N'),\n",
    "    tooltip=['Accurate_Episode_Date:T', 'count()', 'Client_Gender:N'],\n",
    ").properties(\n",
    "    title='Ottawa',\n",
    ").transform_filter(\n",
    "    alt.FieldOneOfPredicate(field='Reporting_PHU_City', oneOf=['Ottawa'])\n",
    ").interactive()\n",
    "\n",
    "c4age = c4.encode(\n",
    "    color=alt.Color('Age_Group:N'),\n",
    "    tooltip=['Accurate_Episode_Date:T', 'count()', 'Age_Group:N'],\n",
    ")\n",
    "\n",
    "c5 = c_all.encode(\n",
    "    color=alt.Color('Client_Gender:N'),\n",
    "    tooltip=['Accurate_Episode_Date:T', 'count()', 'Client_Gender:N'],\n",
    ").properties(\n",
    "    title='Windsor',\n",
    ").transform_filter(\n",
    "    alt.FieldOneOfPredicate(field='Reporting_PHU_City', oneOf=['Windsor'])\n",
    ").interactive()\n",
    "\n",
    "c5age = c5.encode(\n",
    "    color=alt.Color('Age_Group:N'),\n",
    "    tooltip=['Accurate_Episode_Date:T', 'count()', 'Age_Group:N'],\n",
    ")\n",
    "\n",
    "alt.vconcat(\n",
    "    c_all, c1, c1age, c2, c2age, c3, c3age, c4, c4age, c5, c5age\n",
    ").resolve_scale(\n",
    "    color='independent',\n",
    "    #x='shared',\n",
    "    #y='shared',\n",
    ")\n"
   ]
  },
  {
   "cell_type": "markdown",
   "metadata": {
    "papermill": {
     "duration": null,
     "end_time": null,
     "exception": null,
     "start_time": null,
     "status": "pending"
    },
    "tags": []
   },
   "source": [
    "## By gender"
   ]
  },
  {
   "cell_type": "code",
   "execution_count": null,
   "metadata": {
    "papermill": {
     "duration": null,
     "end_time": null,
     "exception": null,
     "start_time": null,
     "status": "pending"
    },
    "tags": []
   },
   "outputs": [],
   "source": [
    "# hide_input\n",
    "\n",
    "# This does cities by gender, and all charts move together. Not really needed.\n",
    "\n",
    "dfw = df\n",
    "#dfw = dfw.drop('Accurate_Episode_Date', axis=1)\n",
    "dfw = dfw.drop('Age_Group', axis=1)\n",
    "#dfw = dfw.drop('Client_Gender', axis=1)\n",
    "dfw = dfw.drop('Case_AcquisitionInfo', axis=1)\n",
    "dfw = dfw.drop('Outbreak_Related', axis=1)\n",
    "dfw = dfw.drop('Outcome1', axis=1)\n",
    "#dfw = dfw.drop('Reporting_PHU_City', axis=1)\n",
    "\n",
    "dfw = dfw.drop('Case_Reported_Date', axis=1)\n",
    "dfw = dfw.drop('Test_Reported_Date', axis=1)\n",
    "dfw = dfw.drop('Specimen_Date', axis=1)\n",
    "dfw\n",
    "\n",
    "dropnames = dfw[\n",
    "    (dfw['Reporting_PHU_City'] != 'Toronto') &\n",
    "    (dfw['Reporting_PHU_City'] != 'Newmarket') &\n",
    "    (dfw['Reporting_PHU_City'] != 'Mississauga') &\n",
    "    (dfw['Reporting_PHU_City'] != 'Ottawa')\n",
    "].index\n",
    "dfw = dfw.drop(dropnames)\n",
    "dfw\n",
    "\n",
    "c1 = alt.Chart(dfw).mark_bar().encode(\n",
    "    alt.X('Accurate_Episode_Date:T', title='date'),\n",
    "    alt.Y('count()', title='cases'),\n",
    "    alt.Color('Client_Gender:N'),\n",
    ").properties(\n",
    "    height=120,\n",
    "    width=800,\n",
    ").transform_filter(\n",
    "    alt.FieldOneOfPredicate(field='Reporting_PHU_City', oneOf=['Toronto', 'Mississauga', 'Newmarket', 'Ottawa', 'Windsor'])\n",
    ").interactive(\n",
    ").facet(\n",
    "    #row='Age_Group'\n",
    "    row='Reporting_PHU_City',\n",
    ")\n",
    "\n",
    "#c1\n"
   ]
  },
  {
   "cell_type": "markdown",
   "metadata": {
    "papermill": {
     "duration": null,
     "end_time": null,
     "exception": null,
     "start_time": null,
     "status": "pending"
    },
    "tags": []
   },
   "source": [
    "# Various cities, by outcome"
   ]
  },
  {
   "cell_type": "code",
   "execution_count": null,
   "metadata": {
    "papermill": {
     "duration": null,
     "end_time": null,
     "exception": null,
     "start_time": null,
     "status": "pending"
    },
    "tags": []
   },
   "outputs": [],
   "source": [
    "# hide_input\n",
    "\n",
    "dfw = df\n",
    "dfw = dfw.drop('Accurate_Episode_Date', axis=1)\n",
    "#dfw = dfw.drop('Age_Group', axis=1)\n",
    "#dfw = dfw.drop('Client_Gender', axis=1)\n",
    "dfw = dfw.drop('Case_AcquisitionInfo', axis=1)\n",
    "dfw = dfw.drop('Outbreak_Related', axis=1)\n",
    "#dfw = dfw.drop('Outcome1', axis=1)\n",
    "#dfw = dfw.drop('Reporting_PHU_City', axis=1)\n",
    "\n",
    "dfw = dfw.drop('Case_Reported_Date', axis=1)\n",
    "dfw = dfw.drop('Test_Reported_Date', axis=1)\n",
    "dfw = dfw.drop('Specimen_Date', axis=1)\n",
    "dfw\n",
    "\n",
    "dropnames = dfw[\n",
    "    (dfw['Reporting_PHU_City'] != 'Toronto') &\n",
    "    (dfw['Reporting_PHU_City'] != 'Mississauga') &\n",
    "    (dfw['Reporting_PHU_City'] != 'Newmarket') &\n",
    "    (dfw['Reporting_PHU_City'] != 'Ottawa') &\n",
    "    \n",
    "    (dfw['Reporting_PHU_City'] != 'London') &\n",
    "    (dfw['Reporting_PHU_City'] != 'Hamilton') &\n",
    "    (dfw['Reporting_PHU_City'] != 'Windsor')\n",
    "].index\n",
    "dfw = dfw.drop(dropnames)\n",
    "dfw\n",
    "\n",
    "a = alt.Chart(dfw).mark_bar().encode(\n",
    "    alt.X('Age_Group:N'),\n",
    "    alt.Y('count():Q'),\n",
    "    color='Client_Gender:N',\n",
    "    tooltip=['Age_Group:N', 'count():Q', 'Client_Gender:N', 'Outcome1:N', 'Reporting_PHU_City:N'],\n",
    ").properties(\n",
    "    height=120,\n",
    "    width=120,\n",
    ").transform_filter(\n",
    "    alt.FieldOneOfPredicate(field='Reporting_PHU_City', oneOf=['Toronto', 'Mississauga', 'Newmarket', 'Ottawa', 'Windsor', 'Hamilton', 'London']),\n",
    "    #alt.FieldOneOfPredicate(field='Outcome1', oneOf=['fatal']),\n",
    ").facet(\n",
    "    column='Outcome1:N',\n",
    "    row='Reporting_PHU_City:N', \n",
    ").interactive()\n",
    "\n",
    "a"
   ]
  },
  {
   "cell_type": "markdown",
   "metadata": {
    "papermill": {
     "duration": null,
     "end_time": null,
     "exception": null,
     "start_time": null,
     "status": "pending"
    },
    "tags": []
   },
   "source": [
    "# Various cities, by outbreak"
   ]
  },
  {
   "cell_type": "code",
   "execution_count": null,
   "metadata": {
    "papermill": {
     "duration": null,
     "end_time": null,
     "exception": null,
     "start_time": null,
     "status": "pending"
    },
    "tags": []
   },
   "outputs": [],
   "source": [
    "# hide_input\n",
    "\n",
    "dfw = df\n",
    "dfw = dfw.drop('Accurate_Episode_Date', axis=1)\n",
    "#dfw = dfw.drop('Age_Group', axis=1)\n",
    "#dfw = dfw.drop('Client_Gender', axis=1)\n",
    "dfw = dfw.drop('Case_AcquisitionInfo', axis=1)\n",
    "#dfw = dfw.drop('Outbreak_Related', axis=1)\n",
    "dfw = dfw.drop('Outcome1', axis=1)\n",
    "#dfw = dfw.drop('Reporting_PHU_City', axis=1)\n",
    "\n",
    "dfw = dfw.drop('Case_Reported_Date', axis=1)\n",
    "dfw = dfw.drop('Test_Reported_Date', axis=1)\n",
    "dfw = dfw.drop('Specimen_Date', axis=1)\n",
    "dfw\n",
    "\n",
    "dropnames = dfw[\n",
    "    (dfw['Reporting_PHU_City'] != 'Toronto') &\n",
    "    (dfw['Reporting_PHU_City'] != 'Mississauga') &\n",
    "    (dfw['Reporting_PHU_City'] != 'Newmarket') &\n",
    "    (dfw['Reporting_PHU_City'] != 'Ottawa') &\n",
    "    \n",
    "    (dfw['Reporting_PHU_City'] != 'Hamilton') &\n",
    "    (dfw['Reporting_PHU_City'] != 'London') &\n",
    "    (dfw['Reporting_PHU_City'] != 'Windsor')\n",
    "].index\n",
    "dfw = dfw.drop(dropnames)\n",
    "dfw\n",
    "\n",
    "a = alt.Chart(dfw).mark_bar().encode(\n",
    "    alt.X('Age_Group'),\n",
    "    alt.Y('count()'),\n",
    "    color='Client_Gender',\n",
    "    tooltip=['Age_Group:N', 'count():Q', 'Client_Gender:N', 'Outbreak_Related:N', 'Reporting_PHU_City:N'],\n",
    ").properties(\n",
    "    height=120,\n",
    "    width=120,\n",
    ").transform_filter(\n",
    "    alt.FieldOneOfPredicate(field='Reporting_PHU_City', oneOf=['Toronto', 'Mississauga', 'Newmarket', 'Ottawa', 'Hamilton', 'London'])\n",
    ").facet(\n",
    "    column='Outbreak_Related',\n",
    "    row='Reporting_PHU_City', \n",
    ").interactive()\n",
    "\n",
    "a"
   ]
  }
 ],
 "metadata": {
  "kernelspec": {
   "display_name": "Python 3",
   "language": "python",
   "name": "python3"
  },
  "language_info": {
   "codemirror_mode": {
    "name": "ipython",
    "version": 3
   },
   "file_extension": ".py",
   "mimetype": "text/x-python",
   "name": "python",
   "nbconvert_exporter": "python",
   "pygments_lexer": "ipython3",
   "version": "3.6.12"
  },
  "papermill": {
   "duration": 17.342053,
   "end_time": "2020-12-18T16:47:19.085517",
   "environment_variables": {},
   "exception": true,
   "input_path": "2020-06-29-Ontario-COVID-19-data-visualized.ipynb",
   "output_path": "2020-06-29-Ontario-COVID-19-data-visualized.ipynb",
   "parameters": {},
   "start_time": "2020-12-18T16:47:01.743464",
   "version": "2.1.1"
  }
 },
 "nbformat": 4,
 "nbformat_minor": 4
}